{
 "cells": [
  {
   "cell_type": "code",
   "execution_count": 1,
   "metadata": {},
   "outputs": [
    {
     "name": "stdout",
     "output_type": "stream",
     "text": [
      "10\n",
      "10\n",
      "[10, 15, 20, 25]\n"
     ]
    }
   ],
   "source": [
    "import heapq\n",
    "\n",
    "# Create a min-heap\n",
    "heap = []\n",
    "heapq.heappush(heap, 25)  # Insert\n",
    "heapq.heappush(heap, 15)\n",
    "heapq.heappush(heap, 20)\n",
    "heapq.heappush(heap, 10)\n",
    "\n",
    "# Access the smallest item\n",
    "print(heap[0])  # Outputs 10\n",
    "\n",
    "# Remove the smallest item\n",
    "print(heapq.heappop(heap))  # Outputs 10\n",
    "\n",
    "# Efficiently turn a list into a heap\n",
    "heap = [25, 15, 20, 10]\n",
    "heapq.heapify(heap)\n",
    "print(heap)  # Outputs [10, 15, 20, 25] organized as a heap\n"
   ]
  }
 ],
 "metadata": {
  "kernelspec": {
   "display_name": "Python 3",
   "language": "python",
   "name": "python3"
  },
  "language_info": {
   "codemirror_mode": {
    "name": "ipython",
    "version": 3
   },
   "file_extension": ".py",
   "mimetype": "text/x-python",
   "name": "python",
   "nbconvert_exporter": "python",
   "pygments_lexer": "ipython3",
   "version": "3.12.3"
  }
 },
 "nbformat": 4,
 "nbformat_minor": 2
}
