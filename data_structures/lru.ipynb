{
 "cells": [
  {
   "cell_type": "code",
   "execution_count": 2,
   "metadata": {},
   "outputs": [
    {
     "name": "stdout",
     "output_type": "stream",
     "text": [
      "cached_result_for_key_1\n",
      "-1\n"
     ]
    }
   ],
   "source": [
    "from lru import Node, LRUCache\n",
    "\n",
    "\n",
    "# Example usage:\n",
    "cache = LRUCache(3)\n",
    "cache.put(1, 'cached_result_for_key_1')\n",
    "cache.put(2, 2)\n",
    "cache.put(3, 3)\n",
    "print(cache.get(1))   # returns 'cached_result_for_key_1'\n",
    "cache.put(4, 4)       # evicts key 2\n",
    "print(cache.get(2))   # returns -1 (not found)\n"
   ]
  }
 ],
 "metadata": {
  "kernelspec": {
   "display_name": "Python 3",
   "language": "python",
   "name": "python3"
  },
  "language_info": {
   "codemirror_mode": {
    "name": "ipython",
    "version": 3
   },
   "file_extension": ".py",
   "mimetype": "text/x-python",
   "name": "python",
   "nbconvert_exporter": "python",
   "pygments_lexer": "ipython3",
   "version": "3.12.3"
  }
 },
 "nbformat": 4,
 "nbformat_minor": 2
}
