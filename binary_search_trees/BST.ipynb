{
 "cells": [
  {
   "cell_type": "markdown",
   "metadata": {},
   "source": [
    "## Traversal operation"
   ]
  },
  {
   "cell_type": "code",
   "execution_count": 8,
   "metadata": {},
   "outputs": [
    {
     "name": "stdout",
     "output_type": "stream",
     "text": [
      "valid BST? True\n",
      "In-order traversal: [3, 5, 7, 10, 11, 12, 19, 15, 14, 16, 20]\n",
      "Pre-order traversal: [10, 5, 3, 7, 15, 12, 11, 19, 16, 14, 20]\n",
      "Post-order traversal: [3, 7, 5, 11, 19, 12, 14, 20, 16, 15, 10]\n",
      "Level-order traversal: [10, 5, 15, 3, 7, 12, 16, 11, 19, 14, 20]\n"
     ]
    }
   ],
   "source": [
    "from BST import BST\n",
    "from bst_operations import inorder_traversal, preorder_traversal, postorder_traversal, breadth_first_traversal\n",
    "from isValid import isValid\n",
    "# Example of creating a tree and traversing it\n",
    "root = BST(10)\n",
    "root.left = BST(5)\n",
    "root.right = BST(15)\n",
    "root.left.left = BST(3)\n",
    "root.left.right = BST(7)\n",
    "root.right.left = BST(12)\n",
    "root.right.right= BST(16)\n",
    "root.right.left.right = BST(19)\n",
    "root.right.left.left = BST(11)\n",
    "root.right.right.right = BST(20)\n",
    "root.right.right.left = BST(14)\n",
    "\n",
    "#       10\n",
    "#     5     15\n",
    "#   3   7  12  16\n",
    "#        11 19 14 20            \n",
    "\n",
    "print(\"valid BST?\", isValid(root))\n",
    "print(\"In-order traversal:\", inorder_traversal(root))\n",
    "print(\"Pre-order traversal:\", preorder_traversal(root))\n",
    "print(\"Post-order traversal:\", postorder_traversal(root))\n",
    "print(\"Level-order traversal:\", breadth_first_traversal(root))"
   ]
  },
  {
   "cell_type": "markdown",
   "metadata": {},
   "source": [
    "## Display text format"
   ]
  },
  {
   "cell_type": "code",
   "execution_count": 7,
   "metadata": {},
   "outputs": [
    {
     "name": "stdout",
     "output_type": "stream",
     "text": [
      "  _10_______       \n",
      " /          \\      \n",
      " 5       __15___   \n",
      "/ \\     /       \\  \n",
      "3 7    12_     16_ \n",
      "      /   \\   /   \\\n",
      "     14  19  14  20\n"
     ]
    }
   ],
   "source": [
    "\n",
    "def print_bst(root):\n",
    "    lines, *_ = _display_aux(root)\n",
    "    for line in lines:\n",
    "        print(line)\n",
    "\n",
    "def _display_aux(root):\n",
    "    \"\"\"Returns list of strings, width, height, and horizontal coordinate of the root.\"\"\"\n",
    "    # No child.\n",
    "    if root.right is None and root.left is None:\n",
    "        line = '%s' % root.value\n",
    "        width = len(line)\n",
    "        height = 1\n",
    "        middle = width // 2\n",
    "        return [line], width, height, middle\n",
    "\n",
    "    # Only left child.\n",
    "    if root.right is None:\n",
    "        lines, n, p, x = _display_aux(root.left)\n",
    "        s = '%s' % root.value\n",
    "        u = len(s)\n",
    "        first_line = (x + 1) * ' ' + (n - x - 1) * '_' + s\n",
    "        second_line = x * ' ' + '/' + (n - x - 1 + u) * ' '\n",
    "        shifted_lines = [line + u * ' ' for line in lines]\n",
    "        return [first_line, second_line] + shifted_lines, n + u, p + 2, n + u // 2\n",
    "\n",
    "    # Only right child.\n",
    "    if root.left is None:\n",
    "        lines, n, p, x = _display_aux(root.right)\n",
    "        s = '%s' % root.value\n",
    "        u = len(s)\n",
    "        first_line = s + x * '_' + (n - x) * ' '\n",
    "        second_line = (u + x) * ' ' + '\\\\' + (n - x - 1) * ' '\n",
    "        shifted_lines = [u * ' ' + line for line in lines]\n",
    "        return [first_line, second_line] + shifted_lines, n + u, p + 2, u // 2\n",
    "\n",
    "    # Two children.\n",
    "    left, n, p, x = _display_aux(root.left)\n",
    "    right, m, q, y = _display_aux(root.right)\n",
    "    s = '%s' % root.value\n",
    "    u = len(s)\n",
    "    first_line = (x + 1) * ' ' + (n - x - 1) * '_' + s + y * '_' + (m - y) * ' '\n",
    "    second_line = x * ' ' + '/' + (n - x - 1 + u + y) * ' ' + '\\\\' + (m - y - 1) * ' '\n",
    "    if p < q:\n",
    "        left += [n * ' '] * (q - p)\n",
    "    elif q < p:\n",
    "        right += [m * ' '] * (p - q)\n",
    "    zipped_lines = zip(left, right)\n",
    "    lines = [a + u * ' ' + b for a, b in zipped_lines]\n",
    "    return [first_line, second_line] + lines, n + m + u, max(p, q) + 2, n + u // 2\n",
    "\n",
    "# Example BST as given\n",
    "root = BST(10)\n",
    "root.left = BST(5)\n",
    "root.right = BST(15)\n",
    "root.left.left = BST(3)\n",
    "root.left.right = BST(7)\n",
    "root.right.left = BST(12)\n",
    "root.right.right = BST(16)\n",
    "root.right.left.right = BST(19)\n",
    "root.right.left.left = BST(14)\n",
    "root.right.right.right = BST(20)\n",
    "root.right.right.left = BST(14)\n",
    "\n",
    "print_bst(root)\n"
   ]
  },
  {
   "cell_type": "code",
   "execution_count": 9,
   "metadata": {},
   "outputs": [
    {
     "name": "stdout",
     "output_type": "stream",
     "text": [
      "   _10_____   \n",
      "  /        \\  \n",
      "  4     __15_ \n",
      " / \\   /     \\\n",
      " 2 5  13_   22\n",
      "/        \\    \n",
      "1       14    \n"
     ]
    }
   ],
   "source": [
    "root = BST(10)\n",
    "root.left = BST(4)\n",
    "root.left.left = BST(2)\n",
    "root.left.left.left = BST(1)\n",
    "root.left.right = BST(5)\n",
    "root.right = BST(15)\n",
    "root.right.left = BST(13)\n",
    "root.right.left.right = BST(14)\n",
    "root.right.right = BST(22)\n",
    "print_bst(root)"
   ]
  },
  {
   "cell_type": "code",
   "execution_count": 10,
   "metadata": {},
   "outputs": [
    {
     "name": "stdout",
     "output_type": "stream",
     "text": [
      "valid BST? True\n",
      "In-order traversal: [1, 2, 4, 5, 10, 13, 14, 15, 22]\n",
      "Pre-order traversal: [10, 4, 2, 1, 5, 15, 13, 14, 22]\n",
      "Post-order traversal: [1, 2, 5, 4, 14, 13, 22, 15, 10]\n",
      "Level-order traversal: [10, 4, 15, 2, 5, 13, 22, 1, 14]\n"
     ]
    }
   ],
   "source": [
    "print(\"valid BST?\", isValid(root))\n",
    "print(\"In-order traversal:\", inorder_traversal(root))\n",
    "print(\"Pre-order traversal:\", preorder_traversal(root))\n",
    "print(\"Post-order traversal:\", postorder_traversal(root))\n",
    "print(\"Level-order traversal:\", breadth_first_traversal(root))"
   ]
  }
 ],
 "metadata": {
  "kernelspec": {
   "display_name": "Python 3",
   "language": "python",
   "name": "python3"
  },
  "language_info": {
   "codemirror_mode": {
    "name": "ipython",
    "version": 3
   },
   "file_extension": ".py",
   "mimetype": "text/x-python",
   "name": "python",
   "nbconvert_exporter": "python",
   "pygments_lexer": "ipython3",
   "version": "3.12.3"
  }
 },
 "nbformat": 4,
 "nbformat_minor": 2
}
