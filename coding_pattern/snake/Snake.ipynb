{
 "cells": [
  {
   "cell_type": "code",
   "execution_count": 1,
   "metadata": {},
   "outputs": [
    {
     "ename": "ModuleNotFoundError",
     "evalue": "No module named 'numpy'",
     "output_type": "error",
     "traceback": [
      "\u001b[0;31m---------------------------------------------------------------------------\u001b[0m",
      "\u001b[0;31mModuleNotFoundError\u001b[0m                       Traceback (most recent call last)",
      "Cell \u001b[0;32mIn[1], line 1\u001b[0m\n\u001b[0;32m----> 1\u001b[0m \u001b[38;5;28;01mimport\u001b[39;00m \u001b[38;5;21;01mnumpy\u001b[39;00m \u001b[38;5;28;01mas\u001b[39;00m \u001b[38;5;21;01mnp\u001b[39;00m\n",
      "\u001b[0;31mModuleNotFoundError\u001b[0m: No module named 'numpy'"
     ]
    }
   ],
   "source": [
    "import numpy as np"
   ]
  },
  {
   "cell_type": "code",
   "execution_count": null,
   "metadata": {},
   "outputs": [],
   "source": []
  },
  {
   "cell_type": "code",
   "execution_count": 2,
   "metadata": {},
   "outputs": [],
   "source": [
    "from typing import Tuple\n",
    "\n",
    "def createBoard(dimensions: Tuple, number_food_items: int):\n",
    "\n",
    "    line = [0 for j in range(dimensions[1])]\n",
    "    array = [line for i in range(dimensions[0])]\n",
    "    return array\n",
    "\n",
    "import matplotlib.pyplot as plt\n",
    "import numpy as np\n",
    "\n",
    "def plotBoard(board):\n",
    "    fig, ax = plt.subplots()\n",
    "    ax.imshow(board, cmap='hot', interpolation='nearest')  # 'hot' is just one colormap, you can choose any.\n",
    "    plt.show()"
   ]
  },
  {
   "cell_type": "code",
   "execution_count": 3,
   "metadata": {},
   "outputs": [],
   "source": [
    "board = createBoard((5,5), 5)"
   ]
  },
  {
   "cell_type": "code",
   "execution_count": 9,
   "metadata": {},
   "outputs": [],
   "source": [
    "\n",
    "import unittest\n",
    "\n",
    "class TestProgram(unittest.TestCase):\n",
    "    def test_generate_board(self):\n",
    "        board = createBoard((5, 5), 4)\n",
    "        self.assertEqual(len(board), 5)\n",
    "\n",
    "TestProgram().test_generate_board()"
   ]
  },
  {
   "cell_type": "markdown",
   "metadata": {},
   "source": [
    "# Snake Game"
   ]
  },
  {
   "cell_type": "code",
   "execution_count": 37,
   "metadata": {},
   "outputs": [],
   "source": [
    "import numpy as np\n",
    "import matplotlib.pyplot as plt\n",
    "from ipywidgets import widgets, HTML\n",
    "from IPython.display import display, clear_output\n",
    "from ipywidgets import Button, VBox, HBox, Output\n",
    "import time\n"
   ]
  },
  {
   "cell_type": "code",
   "execution_count": null,
   "metadata": {},
   "outputs": [],
   "source": []
  },
  {
   "cell_type": "code",
   "execution_count": 38,
   "metadata": {},
   "outputs": [],
   "source": [
    "class SnakeGame:\n",
    "    def __init__(self, board_size=(20, 20), initial_snake_length=3):\n",
    "        self.board_size = board_size\n",
    "        self.snake = [(board_size[0]//2, board_size[1]//2 + i) for i in range(initial_snake_length)]\n",
    "        self.direction = 'left'\n",
    "        self.food = self.place_food()\n",
    "        self.score = 0\n",
    "        self.game_over = False\n",
    "\n",
    "    def place_food(self):\n",
    "        while True:\n",
    "            food = (np.random.randint(0, self.board_size[0]), np.random.randint(0, self.board_size[1]))\n",
    "            if food not in self.snake:\n",
    "                return food\n",
    "\n",
    "    def step(self):\n",
    "        head = self.snake[0]\n",
    "        new_head = {\n",
    "            'left': (head[0], head[1]-1),\n",
    "            'right': (head[0], head[1]+1),\n",
    "            'up': (head[0]-1, head[1]),\n",
    "            'down': (head[0]+1, head[1])\n",
    "        }[self.direction]\n",
    "\n",
    "        # Make sure the snake doesn't exit the board otherwise game over\n",
    "        \n",
    "        if (new_head in self.snake or\n",
    "                new_head[0] < 0 or new_head[0] >= self.board_size[0] or\n",
    "                new_head[1] < 0 or new_head[1] >= self.board_size[1]):\n",
    "            self.game_over = True\n",
    "            return\n",
    "\n",
    "        self.snake.insert(0, new_head)\n",
    "\n",
    "        # detect collision with self if yes game over\n",
    "\n",
    "        # detect collision with food\n",
    "\n",
    "        if new_head == self.food:\n",
    "            self.score += 1\n",
    "            self.food = self.place_food()\n",
    "        else:\n",
    "            self.snake.pop()\n",
    "\n",
    "    def render(self):\n",
    "        board = np.zeros(self.board_size)\n",
    "        for part in self.snake:\n",
    "            board[part] = 1\n",
    "        board[self.food] = 2\n",
    "        return board\n",
    "\n",
    "        \n",
    "        # _, ax = plt.subplots(figsize=(5, 5))\n",
    "        # ax.imshow(board, cmap='viridis')\n",
    "        # ax.set_xticks([])\n",
    "        # ax.set_yticks([])\n",
    "        # plt.title(f\"Score: {self.score}\")\n",
    "        # plt.show()\n"
   ]
  },
  {
   "cell_type": "markdown",
   "metadata": {},
   "source": [
    "## with buttons"
   ]
  },
  {
   "cell_type": "code",
   "execution_count": 35,
   "metadata": {},
   "outputs": [
    {
     "data": {
      "application/vnd.jupyter.widget-view+json": {
       "model_id": "5b84f89422b441abbb0fa77103c22118",
       "version_major": 2,
       "version_minor": 0
      },
      "text/plain": [
       "VBox(children=(Button(description='Up', style=ButtonStyle()), HBox(children=(Button(description='Left', style=…"
      ]
     },
     "metadata": {},
     "output_type": "display_data"
    },
    {
     "data": {
      "application/vnd.jupyter.widget-view+json": {
       "model_id": "825d43315ef448668a36a7163c5d925e",
       "version_major": 2,
       "version_minor": 0
      },
      "text/plain": [
       "Output()"
      ]
     },
     "metadata": {},
     "output_type": "display_data"
    }
   ],
   "source": [
    "game = SnakeGame()\n",
    "out = Output()\n",
    "\n",
    "def on_button_click(b):\n",
    "    game.direction = b.description.lower()\n",
    "    game.step()\n",
    "    with out:\n",
    "        clear_output(wait=True)\n",
    "        # _, ax = plt.subplots(figsize=(5, 5))\n",
    "        # ax.imshow(board, cmap='viridis')\n",
    "        plt.imshow(game.render(), cmap='hot')\n",
    "        plt.axis('off')\n",
    "        plt.show()\n",
    "\n",
    "up_button = Button(description='Up')\n",
    "up_button.on_click(on_button_click)\n",
    "down_button = Button(description='Down')\n",
    "down_button.on_click(on_button_click)\n",
    "left_button = Button(description='Left')\n",
    "left_button.on_click(on_button_click)\n",
    "right_button = Button(description='Right')\n",
    "right_button.on_click(on_button_click)\n",
    "\n",
    "button_box = VBox([up_button, HBox([left_button, down_button, right_button])])\n",
    "display(button_box, out)"
   ]
  },
  {
   "cell_type": "code",
   "execution_count": 41,
   "metadata": {},
   "outputs": [
    {
     "data": {
      "application/vnd.jupyter.widget-view+json": {
       "model_id": "95630002093c4f0f83ae30175957e102",
       "version_major": 2,
       "version_minor": 0
      },
      "text/plain": [
       "Output()"
      ]
     },
     "metadata": {},
     "output_type": "display_data"
    },
    {
     "data": {
      "application/vnd.jupyter.widget-view+json": {
       "model_id": "95630002093c4f0f83ae30175957e102",
       "version_major": 2,
       "version_minor": 0
      },
      "text/plain": [
       "Output()"
      ]
     },
     "metadata": {},
     "output_type": "display_data"
    },
    {
     "data": {
      "application/vnd.jupyter.widget-view+json": {
       "model_id": "95630002093c4f0f83ae30175957e102",
       "version_major": 2,
       "version_minor": 0
      },
      "text/plain": [
       "Output()"
      ]
     },
     "metadata": {},
     "output_type": "display_data"
    },
    {
     "data": {
      "application/vnd.jupyter.widget-view+json": {
       "model_id": "95630002093c4f0f83ae30175957e102",
       "version_major": 2,
       "version_minor": 0
      },
      "text/plain": [
       "Output()"
      ]
     },
     "metadata": {},
     "output_type": "display_data"
    },
    {
     "data": {
      "application/vnd.jupyter.widget-view+json": {
       "model_id": "95630002093c4f0f83ae30175957e102",
       "version_major": 2,
       "version_minor": 0
      },
      "text/plain": [
       "Output()"
      ]
     },
     "metadata": {},
     "output_type": "display_data"
    },
    {
     "data": {
      "application/vnd.jupyter.widget-view+json": {
       "model_id": "95630002093c4f0f83ae30175957e102",
       "version_major": 2,
       "version_minor": 0
      },
      "text/plain": [
       "Output()"
      ]
     },
     "metadata": {},
     "output_type": "display_data"
    },
    {
     "data": {
      "application/vnd.jupyter.widget-view+json": {
       "model_id": "95630002093c4f0f83ae30175957e102",
       "version_major": 2,
       "version_minor": 0
      },
      "text/plain": [
       "Output()"
      ]
     },
     "metadata": {},
     "output_type": "display_data"
    },
    {
     "data": {
      "application/vnd.jupyter.widget-view+json": {
       "model_id": "95630002093c4f0f83ae30175957e102",
       "version_major": 2,
       "version_minor": 0
      },
      "text/plain": [
       "Output()"
      ]
     },
     "metadata": {},
     "output_type": "display_data"
    },
    {
     "data": {
      "application/vnd.jupyter.widget-view+json": {
       "model_id": "95630002093c4f0f83ae30175957e102",
       "version_major": 2,
       "version_minor": 0
      },
      "text/plain": [
       "Output()"
      ]
     },
     "metadata": {},
     "output_type": "display_data"
    },
    {
     "data": {
      "application/vnd.jupyter.widget-view+json": {
       "model_id": "95630002093c4f0f83ae30175957e102",
       "version_major": 2,
       "version_minor": 0
      },
      "text/plain": [
       "Output()"
      ]
     },
     "metadata": {},
     "output_type": "display_data"
    },
    {
     "data": {
      "application/vnd.jupyter.widget-view+json": {
       "model_id": "95630002093c4f0f83ae30175957e102",
       "version_major": 2,
       "version_minor": 0
      },
      "text/plain": [
       "Output()"
      ]
     },
     "metadata": {},
     "output_type": "display_data"
    }
   ],
   "source": [
    "from ipyevents import Event\n",
    "game = SnakeGame()\n",
    "out = Output()\n",
    "listener = Event(source=out, watched_events=['keydown'])\n",
    "\n",
    "def handle_keyboard(event):\n",
    "\n",
    "    directionToKeys={\n",
    "        'left': 'a',\n",
    "        'right': 'd',\n",
    "        'up': 'w',\n",
    "        'down': 's'\n",
    "    }\n",
    "    keysToDirection={\n",
    "        'a': 'left',\n",
    "        'd': 'right',\n",
    "        'w': 'up',\n",
    "        's': 'down'\n",
    "    }\n",
    "    if event['type'] == 'keydown':\n",
    "        key = event['key']\n",
    "        # print('key:', key)\n",
    "        opposites = {'a': 'd', 'd': 'a', 'w': 's', 's': 'w'}\n",
    "        if key.lower() in opposites.keys() and key.lower() != opposites[directionToKeys[game.direction]]:\n",
    "            game.direction = keysToDirection[key.lower()]\n",
    "\n",
    "listener.on_dom_event(handle_keyboard)\n",
    "\n",
    "\n",
    "def game_loop():\n",
    "    while not game.game_over:\n",
    "        time.sleep(1)\n",
    "        game.step()\n",
    "        with out:\n",
    "            clear_output(wait=True)\n",
    "            plt.imshow(game.render(), cmap='hot')\n",
    "            plt.axis('off')\n",
    "            plt.show()\n",
    "        display(out)\n",
    "\n",
    "game_loop()\n",
    "\n",
    "# display(out)"
   ]
  },
  {
   "cell_type": "markdown",
   "metadata": {},
   "source": [
    "## Example events"
   ]
  },
  {
   "cell_type": "code",
   "execution_count": 27,
   "metadata": {},
   "outputs": [
    {
     "data": {
      "application/vnd.jupyter.widget-view+json": {
       "model_id": "7fb36589476643e0a77fd833ebfdaee9",
       "version_major": 2,
       "version_minor": 0
      },
      "text/plain": [
       "Label(value='Click or type on me!', layout=Layout(border_bottom='2px solid red', border_left='2px solid red', …"
      ]
     },
     "metadata": {},
     "output_type": "display_data"
    },
    {
     "data": {
      "application/vnd.jupyter.widget-view+json": {
       "model_id": "efbcb88b6bd746928a03a6f9d96d63f6",
       "version_major": 2,
       "version_minor": 0
      },
      "text/plain": [
       "HTML(value='Event info')"
      ]
     },
     "metadata": {},
     "output_type": "display_data"
    }
   ],
   "source": [
    "from ipywidgets import Label, HTML, HBox, Image, VBox, Box, HBox\n",
    "from ipyevents import Event\n",
    "from IPython.display import display\n",
    "\n",
    "l = Label('Click or type on me!')\n",
    "l.layout.border = '2px solid red'\n",
    "\n",
    "h = HTML('Event info')\n",
    "d = Event(source=l, watched_events=['click', 'keydown', 'mouseenter', 'touchmove'])\n",
    "\n",
    "def handle_event(event):\n",
    "    lines = ['{}: {}'.format(k, v) for k, v in event.items()]\n",
    "    content = '<br>'.join(lines)\n",
    "    h.value = content\n",
    "\n",
    "d.on_dom_event(handle_event)\n",
    "\n",
    "display(l, h)\n"
   ]
  }
 ],
 "metadata": {
  "kernelspec": {
   "display_name": "Python 3",
   "language": "python",
   "name": "python3"
  },
  "language_info": {
   "codemirror_mode": {
    "name": "ipython",
    "version": 3
   },
   "file_extension": ".py",
   "mimetype": "text/x-python",
   "name": "python",
   "nbconvert_exporter": "python",
   "pygments_lexer": "ipython3",
   "version": "3.12.3"
  }
 },
 "nbformat": 4,
 "nbformat_minor": 2
}
